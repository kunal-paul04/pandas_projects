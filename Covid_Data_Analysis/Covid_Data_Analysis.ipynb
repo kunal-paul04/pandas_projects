{
 "cells": [
  {
   "cell_type": "markdown",
   "id": "502a2883-9549-4b0b-9937-029524732f42",
   "metadata": {},
   "source": [
    "# Import Libraries"
   ]
  },
  {
   "cell_type": "code",
   "execution_count": 1,
   "id": "85181318-e955-45c1-b3cf-d5a8b105c3c4",
   "metadata": {},
   "outputs": [],
   "source": [
    "import pandas as pd\n",
    "import matplotlib.pyplot as plt\n",
    "import seaborn as sns"
   ]
  },
  {
   "cell_type": "markdown",
   "id": "bc13fa7d-0568-4ebc-bc3e-254db388cd15",
   "metadata": {},
   "source": [
    "# Load CSV"
   ]
  },
  {
   "cell_type": "code",
   "execution_count": 47,
   "id": "692884b2-e3b0-4a66-ae13-7e3d3fa598e5",
   "metadata": {},
   "outputs": [],
   "source": [
    "df = pd.read_csv('CovidDataAnalysis.csv')"
   ]
  },
  {
   "cell_type": "markdown",
   "id": "ecaff86e-42fb-4f0f-adf3-75cd1f78816f",
   "metadata": {},
   "source": [
    "# Check and Clean data"
   ]
  },
  {
   "cell_type": "code",
   "execution_count": 5,
   "id": "2c8f4e70-7a84-44d0-8605-f2a65db91cd6",
   "metadata": {},
   "outputs": [
    {
     "data": {
      "text/plain": [
       "Date           0\n",
       "State        181\n",
       "Region         0\n",
       "Confirmed      0\n",
       "Deaths         0\n",
       "Recovered      0\n",
       "dtype: int64"
      ]
     },
     "execution_count": 5,
     "metadata": {},
     "output_type": "execute_result"
    }
   ],
   "source": [
    "# Cheack if there is missing or null data\n",
    "df.isnull().sum()"
   ]
  },
  {
   "cell_type": "code",
   "execution_count": 20,
   "id": "67b2ab83-23f7-422a-a4fc-9cd50b48d235",
   "metadata": {},
   "outputs": [
    {
     "data": {
      "text/html": [
       "<div>\n",
       "<style scoped>\n",
       "    .dataframe tbody tr th:only-of-type {\n",
       "        vertical-align: middle;\n",
       "    }\n",
       "\n",
       "    .dataframe tbody tr th {\n",
       "        vertical-align: top;\n",
       "    }\n",
       "\n",
       "    .dataframe thead th {\n",
       "        text-align: right;\n",
       "    }\n",
       "</style>\n",
       "<table border=\"1\" class=\"dataframe\">\n",
       "  <thead>\n",
       "    <tr style=\"text-align: right;\">\n",
       "      <th></th>\n",
       "      <th>Date</th>\n",
       "      <th>State</th>\n",
       "      <th>Region</th>\n",
       "      <th>Confirmed</th>\n",
       "      <th>Deaths</th>\n",
       "      <th>Recovered</th>\n",
       "    </tr>\n",
       "  </thead>\n",
       "  <tbody>\n",
       "    <tr>\n",
       "      <th>0</th>\n",
       "      <td>4/29/2020</td>\n",
       "      <td>Not Available</td>\n",
       "      <td>Afghanistan</td>\n",
       "      <td>1939</td>\n",
       "      <td>60</td>\n",
       "      <td>252</td>\n",
       "    </tr>\n",
       "    <tr>\n",
       "      <th>1</th>\n",
       "      <td>4/29/2020</td>\n",
       "      <td>Not Available</td>\n",
       "      <td>Albania</td>\n",
       "      <td>766</td>\n",
       "      <td>30</td>\n",
       "      <td>455</td>\n",
       "    </tr>\n",
       "    <tr>\n",
       "      <th>2</th>\n",
       "      <td>4/29/2020</td>\n",
       "      <td>Not Available</td>\n",
       "      <td>Algeria</td>\n",
       "      <td>3848</td>\n",
       "      <td>444</td>\n",
       "      <td>1702</td>\n",
       "    </tr>\n",
       "    <tr>\n",
       "      <th>3</th>\n",
       "      <td>4/29/2020</td>\n",
       "      <td>Not Available</td>\n",
       "      <td>Andorra</td>\n",
       "      <td>743</td>\n",
       "      <td>42</td>\n",
       "      <td>423</td>\n",
       "    </tr>\n",
       "    <tr>\n",
       "      <th>4</th>\n",
       "      <td>4/29/2020</td>\n",
       "      <td>Not Available</td>\n",
       "      <td>Angola</td>\n",
       "      <td>27</td>\n",
       "      <td>2</td>\n",
       "      <td>7</td>\n",
       "    </tr>\n",
       "    <tr>\n",
       "      <th>5</th>\n",
       "      <td>4/29/2020</td>\n",
       "      <td>Not Available</td>\n",
       "      <td>Antigua and Barbuda</td>\n",
       "      <td>24</td>\n",
       "      <td>3</td>\n",
       "      <td>11</td>\n",
       "    </tr>\n",
       "    <tr>\n",
       "      <th>6</th>\n",
       "      <td>4/29/2020</td>\n",
       "      <td>Not Available</td>\n",
       "      <td>Argentina</td>\n",
       "      <td>4285</td>\n",
       "      <td>214</td>\n",
       "      <td>1192</td>\n",
       "    </tr>\n",
       "    <tr>\n",
       "      <th>7</th>\n",
       "      <td>4/29/2020</td>\n",
       "      <td>Not Available</td>\n",
       "      <td>Armenia</td>\n",
       "      <td>1932</td>\n",
       "      <td>30</td>\n",
       "      <td>900</td>\n",
       "    </tr>\n",
       "  </tbody>\n",
       "</table>\n",
       "</div>"
      ],
      "text/plain": [
       "        Date          State               Region  Confirmed  Deaths  Recovered\n",
       "0  4/29/2020  Not Available          Afghanistan       1939      60        252\n",
       "1  4/29/2020  Not Available              Albania        766      30        455\n",
       "2  4/29/2020  Not Available              Algeria       3848     444       1702\n",
       "3  4/29/2020  Not Available              Andorra        743      42        423\n",
       "4  4/29/2020  Not Available               Angola         27       2          7\n",
       "5  4/29/2020  Not Available  Antigua and Barbuda         24       3         11\n",
       "6  4/29/2020  Not Available            Argentina       4285     214       1192\n",
       "7  4/29/2020  Not Available              Armenia       1932      30        900"
      ]
     },
     "execution_count": 20,
     "metadata": {},
     "output_type": "execute_result"
    }
   ],
   "source": [
    "# Fill missing data in State as 'Not Available'\n",
    "df['State'] = df['State'].fillna('Not Available')\n",
    "df.head(8)"
   ]
  },
  {
   "cell_type": "code",
   "execution_count": 8,
   "id": "9f929cba-c427-4565-b35c-a3790b17cb4d",
   "metadata": {},
   "outputs": [
    {
     "data": {
      "text/plain": [
       "(321, 6)"
      ]
     },
     "execution_count": 8,
     "metadata": {},
     "output_type": "execute_result"
    }
   ],
   "source": [
    "# Check csv - get rows and column count\n",
    "df.shape"
   ]
  },
  {
   "cell_type": "code",
   "execution_count": 10,
   "id": "8f31f936-c277-41b4-8fde-e2daf080ac78",
   "metadata": {},
   "outputs": [
    {
     "name": "stdout",
     "output_type": "stream",
     "text": [
      "<class 'pandas.core.frame.DataFrame'>\n",
      "RangeIndex: 321 entries, 0 to 320\n",
      "Data columns (total 6 columns):\n",
      " #   Column     Non-Null Count  Dtype \n",
      "---  ------     --------------  ----- \n",
      " 0   Date       321 non-null    object\n",
      " 1   State      140 non-null    object\n",
      " 2   Region     321 non-null    object\n",
      " 3   Confirmed  321 non-null    int64 \n",
      " 4   Deaths     321 non-null    int64 \n",
      " 5   Recovered  321 non-null    int64 \n",
      "dtypes: int64(3), object(3)\n",
      "memory usage: 15.2+ KB\n"
     ]
    }
   ],
   "source": [
    "# Check csv info\n",
    "df.info()"
   ]
  },
  {
   "cell_type": "code",
   "execution_count": 11,
   "id": "253c88d2-53a2-415c-be70-8a64e3d6a956",
   "metadata": {},
   "outputs": [
    {
     "data": {
      "text/html": [
       "<div>\n",
       "<style scoped>\n",
       "    .dataframe tbody tr th:only-of-type {\n",
       "        vertical-align: middle;\n",
       "    }\n",
       "\n",
       "    .dataframe tbody tr th {\n",
       "        vertical-align: top;\n",
       "    }\n",
       "\n",
       "    .dataframe thead th {\n",
       "        text-align: right;\n",
       "    }\n",
       "</style>\n",
       "<table border=\"1\" class=\"dataframe\">\n",
       "  <thead>\n",
       "    <tr style=\"text-align: right;\">\n",
       "      <th></th>\n",
       "      <th>Confirmed</th>\n",
       "      <th>Deaths</th>\n",
       "      <th>Recovered</th>\n",
       "    </tr>\n",
       "  </thead>\n",
       "  <tbody>\n",
       "    <tr>\n",
       "      <th>count</th>\n",
       "      <td>321.000000</td>\n",
       "      <td>321.000000</td>\n",
       "      <td>321.000000</td>\n",
       "    </tr>\n",
       "    <tr>\n",
       "      <th>mean</th>\n",
       "      <td>9949.800623</td>\n",
       "      <td>709.152648</td>\n",
       "      <td>3030.277259</td>\n",
       "    </tr>\n",
       "    <tr>\n",
       "      <th>std</th>\n",
       "      <td>31923.853086</td>\n",
       "      <td>3236.162817</td>\n",
       "      <td>14364.870365</td>\n",
       "    </tr>\n",
       "    <tr>\n",
       "      <th>min</th>\n",
       "      <td>0.000000</td>\n",
       "      <td>0.000000</td>\n",
       "      <td>0.000000</td>\n",
       "    </tr>\n",
       "    <tr>\n",
       "      <th>25%</th>\n",
       "      <td>104.000000</td>\n",
       "      <td>2.000000</td>\n",
       "      <td>2.000000</td>\n",
       "    </tr>\n",
       "    <tr>\n",
       "      <th>50%</th>\n",
       "      <td>653.000000</td>\n",
       "      <td>12.000000</td>\n",
       "      <td>73.000000</td>\n",
       "    </tr>\n",
       "    <tr>\n",
       "      <th>75%</th>\n",
       "      <td>4655.000000</td>\n",
       "      <td>144.000000</td>\n",
       "      <td>587.000000</td>\n",
       "    </tr>\n",
       "    <tr>\n",
       "      <th>max</th>\n",
       "      <td>299691.000000</td>\n",
       "      <td>27682.000000</td>\n",
       "      <td>132929.000000</td>\n",
       "    </tr>\n",
       "  </tbody>\n",
       "</table>\n",
       "</div>"
      ],
      "text/plain": [
       "           Confirmed        Deaths      Recovered\n",
       "count     321.000000    321.000000     321.000000\n",
       "mean     9949.800623    709.152648    3030.277259\n",
       "std     31923.853086   3236.162817   14364.870365\n",
       "min         0.000000      0.000000       0.000000\n",
       "25%       104.000000      2.000000       2.000000\n",
       "50%       653.000000     12.000000      73.000000\n",
       "75%      4655.000000    144.000000     587.000000\n",
       "max    299691.000000  27682.000000  132929.000000"
      ]
     },
     "execution_count": 11,
     "metadata": {},
     "output_type": "execute_result"
    }
   ],
   "source": [
    "df.describe()"
   ]
  },
  {
   "cell_type": "code",
   "execution_count": 22,
   "id": "19082a5b-2d70-4b2a-bf3f-eb341425130d",
   "metadata": {},
   "outputs": [
    {
     "data": {
      "text/plain": [
       "Date         321\n",
       "State        321\n",
       "Region       321\n",
       "Confirmed    321\n",
       "Deaths       321\n",
       "Recovered    321\n",
       "dtype: int64"
      ]
     },
     "execution_count": 22,
     "metadata": {},
     "output_type": "execute_result"
    }
   ],
   "source": [
    "df.count()"
   ]
  },
  {
   "cell_type": "markdown",
   "id": "2cd3bb1c-45dc-4ee8-9a93-f90271bd6dcb",
   "metadata": {},
   "source": [
    "# Since data is cleaned, Analyse and Visualize the data"
   ]
  },
  {
   "cell_type": "code",
   "execution_count": 31,
   "id": "bb1f96fd-a334-4092-858c-e35a88a24b45",
   "metadata": {},
   "outputs": [
    {
     "name": "stdout",
     "output_type": "stream",
     "text": [
      "Covid Confirmed : 3193886\n",
      "--------------------------------------------------\n",
      "Death due to Covid : 227638\n",
      "--------------------------------------------------\n",
      "Recovered from Covid : 972719\n"
     ]
    }
   ],
   "source": [
    "# Check Covid confirmed/death/recovery stats\n",
    "covid_confirmed = df['Confirmed'].sum()\n",
    "covid_death = df['Deaths'].sum()\n",
    "covid_recovered = df['Recovered'].sum()\n",
    "\n",
    "print(f'Covid Confirmed : {covid_confirmed}')\n",
    "print('-'*50)\n",
    "print(f'Death due to Covid : {covid_death}')\n",
    "print('-'*50)\n",
    "print(f'Recovered from Covid : {covid_recovered}')"
   ]
  },
  {
   "cell_type": "code",
   "execution_count": 82,
   "id": "49f56f64-673a-4cc3-a727-1816229f7f74",
   "metadata": {},
   "outputs": [
    {
     "data": {
      "text/plain": [
       "<Axes: ylabel='Region'>"
      ]
     },
     "execution_count": 82,
     "metadata": {},
     "output_type": "execute_result"
    },
    {
     "data": {
      "image/png": "[encoded data removed]",
      "text/plain": [
       "<Figure size 640x480 with 2 Axes>"
      ]
     },
     "metadata": {},
     "output_type": "display_data"
    }
   ],
   "source": [
    "# Group by 'Region' and sum the data for 'Confirmed', 'Deaths', and 'Recovered'\n",
    "region_data = df.groupby('Region')[['Confirmed', 'Deaths', 'Recovered']].sum()\n",
    "sns.heatmap(region_data)"
   ]
  },
  {
   "cell_type": "code",
   "execution_count": 33,
   "id": "80b80926-de71-4e95-a1d1-12031bc5455f",
   "metadata": {},
   "outputs": [],
   "source": [
    "# Get stats on the basis every country and visualize top 10 affected countries for each case"
   ]
  },
  {
   "cell_type": "code",
   "execution_count": 56,
   "id": "df717a7f-e28c-4408-a82c-90e6e446a7cd",
   "metadata": {},
   "outputs": [
    {
     "name": "stdout",
     "output_type": "stream",
     "text": [
      "                    Confirmed  Deaths  Recovered\n",
      "Region                                          \n",
      "Afghanistan              1939      60        252\n",
      "Albania                   766      30        455\n",
      "Algeria                  3848     444       1702\n",
      "Andorra                   743      42        423\n",
      "Angola                     27       2          7\n",
      "...                       ...     ...        ...\n",
      "West Bank and Gaza        344       2         71\n",
      "Western Sahara              6       0          5\n",
      "Yemen                       6       0          1\n",
      "Zambia                     97       3         54\n",
      "Zimbabwe                   32       4          5\n",
      "\n",
      "[187 rows x 3 columns]\n"
     ]
    }
   ],
   "source": [
    "# Exclude non-numeric columns\n",
    "numeric_cols = df.select_dtypes(include='number').columns\n",
    "country_base_data = df.groupby('Region')[numeric_cols].sum()\n",
    "print(country_base_data)"
   ]
  },
  {
   "cell_type": "code",
   "execution_count": 57,
   "id": "54148107-c008-495a-9097-36f25818e7a4",
   "metadata": {},
   "outputs": [
    {
     "name": "stdout",
     "output_type": "stream",
     "text": [
      "Region\n",
      "US                1039909\n",
      "Spain              236899\n",
      "Italy              203591\n",
      "France             166543\n",
      "UK                 166441\n",
      "Germany            161539\n",
      "Turkey             117589\n",
      "Russia              99399\n",
      "Iran                93657\n",
      "Mainland China      82862\n",
      "Name: Confirmed, dtype: int64\n",
      "--------------------------------------------------\n"
     ]
    },
    {
     "data": {
      "text/html": [
       "<div>\n",
       "<style scoped>\n",
       "    .dataframe tbody tr th:only-of-type {\n",
       "        vertical-align: middle;\n",
       "    }\n",
       "\n",
       "    .dataframe tbody tr th {\n",
       "        vertical-align: top;\n",
       "    }\n",
       "\n",
       "    .dataframe thead th {\n",
       "        text-align: right;\n",
       "    }\n",
       "</style>\n",
       "<table border=\"1\" class=\"dataframe\">\n",
       "  <thead>\n",
       "    <tr style=\"text-align: right;\">\n",
       "      <th></th>\n",
       "      <th>Confirmed</th>\n",
       "      <th>Deaths</th>\n",
       "      <th>Recovered</th>\n",
       "    </tr>\n",
       "    <tr>\n",
       "      <th>Region</th>\n",
       "      <th></th>\n",
       "      <th></th>\n",
       "      <th></th>\n",
       "    </tr>\n",
       "  </thead>\n",
       "  <tbody>\n",
       "    <tr>\n",
       "      <th>US</th>\n",
       "      <td>1039909</td>\n",
       "      <td>60967</td>\n",
       "      <td>120720</td>\n",
       "    </tr>\n",
       "    <tr>\n",
       "      <th>Spain</th>\n",
       "      <td>236899</td>\n",
       "      <td>24275</td>\n",
       "      <td>132929</td>\n",
       "    </tr>\n",
       "    <tr>\n",
       "      <th>Italy</th>\n",
       "      <td>203591</td>\n",
       "      <td>27682</td>\n",
       "      <td>71252</td>\n",
       "    </tr>\n",
       "    <tr>\n",
       "      <th>France</th>\n",
       "      <td>166543</td>\n",
       "      <td>24121</td>\n",
       "      <td>49118</td>\n",
       "    </tr>\n",
       "    <tr>\n",
       "      <th>UK</th>\n",
       "      <td>166441</td>\n",
       "      <td>26166</td>\n",
       "      <td>857</td>\n",
       "    </tr>\n",
       "    <tr>\n",
       "      <th>...</th>\n",
       "      <td>...</td>\n",
       "      <td>...</td>\n",
       "      <td>...</td>\n",
       "    </tr>\n",
       "    <tr>\n",
       "      <th>Mauritania</th>\n",
       "      <td>8</td>\n",
       "      <td>1</td>\n",
       "      <td>6</td>\n",
       "    </tr>\n",
       "    <tr>\n",
       "      <th>Papua New Guinea</th>\n",
       "      <td>8</td>\n",
       "      <td>0</td>\n",
       "      <td>0</td>\n",
       "    </tr>\n",
       "    <tr>\n",
       "      <th>Bhutan</th>\n",
       "      <td>7</td>\n",
       "      <td>0</td>\n",
       "      <td>5</td>\n",
       "    </tr>\n",
       "    <tr>\n",
       "      <th>Yemen</th>\n",
       "      <td>6</td>\n",
       "      <td>0</td>\n",
       "      <td>1</td>\n",
       "    </tr>\n",
       "    <tr>\n",
       "      <th>Western Sahara</th>\n",
       "      <td>6</td>\n",
       "      <td>0</td>\n",
       "      <td>5</td>\n",
       "    </tr>\n",
       "  </tbody>\n",
       "</table>\n",
       "<p>187 rows × 3 columns</p>\n",
       "</div>"
      ],
      "text/plain": [
       "                  Confirmed  Deaths  Recovered\n",
       "Region                                        \n",
       "US                  1039909   60967     120720\n",
       "Spain                236899   24275     132929\n",
       "Italy                203591   27682      71252\n",
       "France               166543   24121      49118\n",
       "UK                   166441   26166        857\n",
       "...                     ...     ...        ...\n",
       "Mauritania                8       1          6\n",
       "Papua New Guinea          8       0          0\n",
       "Bhutan                    7       0          5\n",
       "Yemen                     6       0          1\n",
       "Western Sahara            6       0          5\n",
       "\n",
       "[187 rows x 3 columns]"
      ]
     },
     "execution_count": 57,
     "metadata": {},
     "output_type": "execute_result"
    }
   ],
   "source": [
    "# Top 10 most confirmed regions -\n",
    "confirmed_cases = country_base_data.Confirmed.sort_values(ascending=False).head(10)\n",
    "print(confirmed_cases)\n",
    "print('-'*50)\n",
    "country_base_data.sort_values(by = ['Confirmed'], ascending=False)"
   ]
  },
  {
   "cell_type": "code",
   "execution_count": 58,
   "id": "0c702d1e-0cda-4e1e-8932-c783b5272360",
   "metadata": {},
   "outputs": [
    {
     "name": "stdout",
     "output_type": "stream",
     "text": [
      "Region\n",
      "US             60967\n",
      "Italy          27682\n",
      "UK             26166\n",
      "Spain          24275\n",
      "France         24121\n",
      "Belgium         7501\n",
      "Germany         6467\n",
      "Iran            5957\n",
      "Brazil          5513\n",
      "Netherlands     4727\n",
      "Name: Deaths, dtype: int64\n",
      "--------------------------------------------------\n"
     ]
    },
    {
     "data": {
      "text/html": [
       "<div>\n",
       "<style scoped>\n",
       "    .dataframe tbody tr th:only-of-type {\n",
       "        vertical-align: middle;\n",
       "    }\n",
       "\n",
       "    .dataframe tbody tr th {\n",
       "        vertical-align: top;\n",
       "    }\n",
       "\n",
       "    .dataframe thead th {\n",
       "        text-align: right;\n",
       "    }\n",
       "</style>\n",
       "<table border=\"1\" class=\"dataframe\">\n",
       "  <thead>\n",
       "    <tr style=\"text-align: right;\">\n",
       "      <th></th>\n",
       "      <th>Confirmed</th>\n",
       "      <th>Deaths</th>\n",
       "      <th>Recovered</th>\n",
       "    </tr>\n",
       "    <tr>\n",
       "      <th>Region</th>\n",
       "      <th></th>\n",
       "      <th></th>\n",
       "      <th></th>\n",
       "    </tr>\n",
       "  </thead>\n",
       "  <tbody>\n",
       "    <tr>\n",
       "      <th>US</th>\n",
       "      <td>1039909</td>\n",
       "      <td>60967</td>\n",
       "      <td>120720</td>\n",
       "    </tr>\n",
       "    <tr>\n",
       "      <th>Italy</th>\n",
       "      <td>203591</td>\n",
       "      <td>27682</td>\n",
       "      <td>71252</td>\n",
       "    </tr>\n",
       "    <tr>\n",
       "      <th>UK</th>\n",
       "      <td>166441</td>\n",
       "      <td>26166</td>\n",
       "      <td>857</td>\n",
       "    </tr>\n",
       "    <tr>\n",
       "      <th>Spain</th>\n",
       "      <td>236899</td>\n",
       "      <td>24275</td>\n",
       "      <td>132929</td>\n",
       "    </tr>\n",
       "    <tr>\n",
       "      <th>France</th>\n",
       "      <td>166543</td>\n",
       "      <td>24121</td>\n",
       "      <td>49118</td>\n",
       "    </tr>\n",
       "    <tr>\n",
       "      <th>...</th>\n",
       "      <td>...</td>\n",
       "      <td>...</td>\n",
       "      <td>...</td>\n",
       "    </tr>\n",
       "    <tr>\n",
       "      <th>South Sudan</th>\n",
       "      <td>34</td>\n",
       "      <td>0</td>\n",
       "      <td>0</td>\n",
       "    </tr>\n",
       "    <tr>\n",
       "      <th>Uganda</th>\n",
       "      <td>81</td>\n",
       "      <td>0</td>\n",
       "      <td>52</td>\n",
       "    </tr>\n",
       "    <tr>\n",
       "      <th>Vietnam</th>\n",
       "      <td>270</td>\n",
       "      <td>0</td>\n",
       "      <td>222</td>\n",
       "    </tr>\n",
       "    <tr>\n",
       "      <th>Yemen</th>\n",
       "      <td>6</td>\n",
       "      <td>0</td>\n",
       "      <td>1</td>\n",
       "    </tr>\n",
       "    <tr>\n",
       "      <th>Western Sahara</th>\n",
       "      <td>6</td>\n",
       "      <td>0</td>\n",
       "      <td>5</td>\n",
       "    </tr>\n",
       "  </tbody>\n",
       "</table>\n",
       "<p>187 rows × 3 columns</p>\n",
       "</div>"
      ],
      "text/plain": [
       "                Confirmed  Deaths  Recovered\n",
       "Region                                      \n",
       "US                1039909   60967     120720\n",
       "Italy              203591   27682      71252\n",
       "UK                 166441   26166        857\n",
       "Spain              236899   24275     132929\n",
       "France             166543   24121      49118\n",
       "...                   ...     ...        ...\n",
       "South Sudan            34       0          0\n",
       "Uganda                 81       0         52\n",
       "Vietnam               270       0        222\n",
       "Yemen                   6       0          1\n",
       "Western Sahara          6       0          5\n",
       "\n",
       "[187 rows x 3 columns]"
      ]
     },
     "execution_count": 58,
     "metadata": {},
     "output_type": "execute_result"
    }
   ],
   "source": [
    "# Top 10 most death regions -\n",
    "death_cases = country_base_data.Deaths.sort_values(ascending=False).head(10)\n",
    "print(death_cases)\n",
    "print('-'*50)\n",
    "country_base_data.sort_values(by = ['Deaths'], ascending=False)"
   ]
  },
  {
   "cell_type": "code",
   "execution_count": 59,
   "id": "82790a0d-2f96-45b0-ad32-1cb79f25ad7f",
   "metadata": {},
   "outputs": [
    {
     "name": "stdout",
     "output_type": "stream",
     "text": [
      "Region\n",
      "Spain             132929\n",
      "US                120720\n",
      "Germany           120400\n",
      "Mainland China     77610\n",
      "Iran               73791\n",
      "Italy              71252\n",
      "France             49118\n",
      "Turkey             44040\n",
      "Brazil             34132\n",
      "Switzerland        22600\n",
      "Name: Recovered, dtype: int64\n",
      "--------------------------------------------------\n"
     ]
    },
    {
     "data": {
      "text/html": [
       "<div>\n",
       "<style scoped>\n",
       "    .dataframe tbody tr th:only-of-type {\n",
       "        vertical-align: middle;\n",
       "    }\n",
       "\n",
       "    .dataframe tbody tr th {\n",
       "        vertical-align: top;\n",
       "    }\n",
       "\n",
       "    .dataframe thead th {\n",
       "        text-align: right;\n",
       "    }\n",
       "</style>\n",
       "<table border=\"1\" class=\"dataframe\">\n",
       "  <thead>\n",
       "    <tr style=\"text-align: right;\">\n",
       "      <th></th>\n",
       "      <th>Confirmed</th>\n",
       "      <th>Deaths</th>\n",
       "      <th>Recovered</th>\n",
       "    </tr>\n",
       "    <tr>\n",
       "      <th>Region</th>\n",
       "      <th></th>\n",
       "      <th></th>\n",
       "      <th></th>\n",
       "    </tr>\n",
       "  </thead>\n",
       "  <tbody>\n",
       "    <tr>\n",
       "      <th>Spain</th>\n",
       "      <td>236899</td>\n",
       "      <td>24275</td>\n",
       "      <td>132929</td>\n",
       "    </tr>\n",
       "    <tr>\n",
       "      <th>US</th>\n",
       "      <td>1039909</td>\n",
       "      <td>60967</td>\n",
       "      <td>120720</td>\n",
       "    </tr>\n",
       "    <tr>\n",
       "      <th>Germany</th>\n",
       "      <td>161539</td>\n",
       "      <td>6467</td>\n",
       "      <td>120400</td>\n",
       "    </tr>\n",
       "    <tr>\n",
       "      <th>Mainland China</th>\n",
       "      <td>82862</td>\n",
       "      <td>4633</td>\n",
       "      <td>77610</td>\n",
       "    </tr>\n",
       "    <tr>\n",
       "      <th>Iran</th>\n",
       "      <td>93657</td>\n",
       "      <td>5957</td>\n",
       "      <td>73791</td>\n",
       "    </tr>\n",
       "    <tr>\n",
       "      <th>...</th>\n",
       "      <td>...</td>\n",
       "      <td>...</td>\n",
       "      <td>...</td>\n",
       "    </tr>\n",
       "    <tr>\n",
       "      <th>Holy See</th>\n",
       "      <td>10</td>\n",
       "      <td>0</td>\n",
       "      <td>2</td>\n",
       "    </tr>\n",
       "    <tr>\n",
       "      <th>Yemen</th>\n",
       "      <td>6</td>\n",
       "      <td>0</td>\n",
       "      <td>1</td>\n",
       "    </tr>\n",
       "    <tr>\n",
       "      <th>MS Zaandam</th>\n",
       "      <td>9</td>\n",
       "      <td>2</td>\n",
       "      <td>0</td>\n",
       "    </tr>\n",
       "    <tr>\n",
       "      <th>Papua New Guinea</th>\n",
       "      <td>8</td>\n",
       "      <td>0</td>\n",
       "      <td>0</td>\n",
       "    </tr>\n",
       "    <tr>\n",
       "      <th>South Sudan</th>\n",
       "      <td>34</td>\n",
       "      <td>0</td>\n",
       "      <td>0</td>\n",
       "    </tr>\n",
       "  </tbody>\n",
       "</table>\n",
       "<p>187 rows × 3 columns</p>\n",
       "</div>"
      ],
      "text/plain": [
       "                  Confirmed  Deaths  Recovered\n",
       "Region                                        \n",
       "Spain                236899   24275     132929\n",
       "US                  1039909   60967     120720\n",
       "Germany              161539    6467     120400\n",
       "Mainland China        82862    4633      77610\n",
       "Iran                  93657    5957      73791\n",
       "...                     ...     ...        ...\n",
       "Holy See                 10       0          2\n",
       "Yemen                     6       0          1\n",
       "MS Zaandam                9       2          0\n",
       "Papua New Guinea          8       0          0\n",
       "South Sudan              34       0          0\n",
       "\n",
       "[187 rows x 3 columns]"
      ]
     },
     "execution_count": 59,
     "metadata": {},
     "output_type": "execute_result"
    }
   ],
   "source": [
    "# Top 10 most recovered regions -\n",
    "recovered_cases = country_base_data.Recovered.sort_values(ascending=False).head(10)\n",
    "print(recovered_cases)\n",
    "print('-'*50)\n",
    "country_base_data.sort_values(by = ['Recovered'], ascending=False)"
   ]
  },
  {
   "cell_type": "code",
   "execution_count": null,
   "id": "bf929834-b9ef-47c7-8db3-197daecc7138",
   "metadata": {},
   "outputs": [],
   "source": []
  }
 ],
 "metadata": {
  "kernelspec": {
   "display_name": "Python 3 (ipykernel)",
   "language": "python",
   "name": "python3"
  },
  "language_info": {
   "codemirror_mode": {
    "name": "ipython",
    "version": 3
   },
   "file_extension": ".py",
   "mimetype": "text/x-python",
   "name": "python",
   "nbconvert_exporter": "python",
   "pygments_lexer": "ipython3",
   "version": "3.13.0"
  }
 },
 "nbformat": 4,
 "nbformat_minor": 5
}
