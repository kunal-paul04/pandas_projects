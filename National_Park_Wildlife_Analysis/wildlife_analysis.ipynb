{
 "cells": [
  {
   "cell_type": "markdown",
   "id": "7870f993-8953-4619-9829-48a098d36726",
   "metadata": {},
   "source": [
    "# Load libraries"
   ]
  },
  {
   "cell_type": "code",
   "execution_count": 32,
   "id": "5ba93e62-ece1-4bc6-8f4f-f9ee8d1b129e",
   "metadata": {},
   "outputs": [],
   "source": [
    "import pandas as pd\n",
    "import matplotlib.pyplot as plt\n",
    "import seaborn as sns"
   ]
  },
  {
   "cell_type": "markdown",
   "id": "382d9f5d-531b-4746-98ba-58d42f96abcf",
   "metadata": {},
   "source": [
    "# Load CSV"
   ]
  },
  {
   "cell_type": "code",
   "execution_count": 62,
   "id": "d5960b65-41e5-48a9-ab48-4077eea57e92",
   "metadata": {},
   "outputs": [],
   "source": [
    "df = pd.read_csv('indian_national_parks_animal_population.csv')"
   ]
  },
  {
   "cell_type": "markdown",
   "id": "dd2c5b32-fb96-489d-9dc6-9cb31339fd00",
   "metadata": {},
   "source": [
    "# Check CSV Info"
   ]
  },
  {
   "cell_type": "code",
   "execution_count": 54,
   "id": "f81e1c45-5f5c-41ef-a1a0-cfa431609b24",
   "metadata": {},
   "outputs": [
    {
     "name": "stdout",
     "output_type": "stream",
     "text": [
      "<class 'pandas.core.frame.DataFrame'>\n",
      "RangeIndex: 175 entries, 0 to 174\n",
      "Data columns (total 10 columns):\n",
      " #   Column                            Non-Null Count  Dtype \n",
      "---  ------                            --------------  ----- \n",
      " 0   Year                              175 non-null    int64 \n",
      " 1   National Park/Wildlife Sanctuary  175 non-null    object\n",
      " 2   State                             175 non-null    object\n",
      " 3   Sq. Area (sq. km)                 175 non-null    int64 \n",
      " 4   Rhinos                            175 non-null    int64 \n",
      " 5   Tigers                            175 non-null    int64 \n",
      " 6   Lions                             175 non-null    int64 \n",
      " 7   Elephants                         175 non-null    int64 \n",
      " 8   Crocodiles                        175 non-null    int64 \n",
      " 9   Region                            175 non-null    object\n",
      "dtypes: int64(7), object(3)\n",
      "memory usage: 13.8+ KB\n"
     ]
    }
   ],
   "source": [
    "df.info()"
   ]
  },
  {
   "cell_type": "code",
   "execution_count": 6,
   "id": "f8d2f732-5c43-45f1-93e0-eb32dd3b2e34",
   "metadata": {},
   "outputs": [
    {
     "data": {
      "text/html": [
       "<div>\n",
       "<style scoped>\n",
       "    .dataframe tbody tr th:only-of-type {\n",
       "        vertical-align: middle;\n",
       "    }\n",
       "\n",
       "    .dataframe tbody tr th {\n",
       "        vertical-align: top;\n",
       "    }\n",
       "\n",
       "    .dataframe thead th {\n",
       "        text-align: right;\n",
       "    }\n",
       "</style>\n",
       "<table border=\"1\" class=\"dataframe\">\n",
       "  <thead>\n",
       "    <tr style=\"text-align: right;\">\n",
       "      <th></th>\n",
       "      <th>Year</th>\n",
       "      <th>Sq. Area (sq. km)</th>\n",
       "      <th>Rhinos</th>\n",
       "      <th>Tigers</th>\n",
       "      <th>Lions</th>\n",
       "      <th>Elephants</th>\n",
       "      <th>Crocodiles</th>\n",
       "    </tr>\n",
       "  </thead>\n",
       "  <tbody>\n",
       "    <tr>\n",
       "      <th>count</th>\n",
       "      <td>175.000000</td>\n",
       "      <td>175.000000</td>\n",
       "      <td>175.000000</td>\n",
       "      <td>175.000000</td>\n",
       "      <td>175.000000</td>\n",
       "      <td>175.000000</td>\n",
       "      <td>175.000000</td>\n",
       "    </tr>\n",
       "    <tr>\n",
       "      <th>mean</th>\n",
       "      <td>2007.000000</td>\n",
       "      <td>1072.800000</td>\n",
       "      <td>457.142857</td>\n",
       "      <td>85.371429</td>\n",
       "      <td>126.342857</td>\n",
       "      <td>637.142857</td>\n",
       "      <td>130.000000</td>\n",
       "    </tr>\n",
       "    <tr>\n",
       "      <th>std</th>\n",
       "      <td>10.128485</td>\n",
       "      <td>373.639817</td>\n",
       "      <td>920.483916</td>\n",
       "      <td>85.257920</td>\n",
       "      <td>253.942471</td>\n",
       "      <td>790.418816</td>\n",
       "      <td>194.463601</td>\n",
       "    </tr>\n",
       "    <tr>\n",
       "      <th>min</th>\n",
       "      <td>1990.000000</td>\n",
       "      <td>430.000000</td>\n",
       "      <td>0.000000</td>\n",
       "      <td>0.000000</td>\n",
       "      <td>0.000000</td>\n",
       "      <td>0.000000</td>\n",
       "      <td>0.000000</td>\n",
       "    </tr>\n",
       "    <tr>\n",
       "      <th>25%</th>\n",
       "      <td>1998.000000</td>\n",
       "      <td>874.000000</td>\n",
       "      <td>0.000000</td>\n",
       "      <td>0.000000</td>\n",
       "      <td>0.000000</td>\n",
       "      <td>0.000000</td>\n",
       "      <td>0.000000</td>\n",
       "    </tr>\n",
       "    <tr>\n",
       "      <th>50%</th>\n",
       "      <td>2007.000000</td>\n",
       "      <td>1318.000000</td>\n",
       "      <td>0.000000</td>\n",
       "      <td>80.000000</td>\n",
       "      <td>0.000000</td>\n",
       "      <td>0.000000</td>\n",
       "      <td>0.000000</td>\n",
       "    </tr>\n",
       "    <tr>\n",
       "      <th>75%</th>\n",
       "      <td>2016.000000</td>\n",
       "      <td>1330.000000</td>\n",
       "      <td>0.000000</td>\n",
       "      <td>120.000000</td>\n",
       "      <td>0.000000</td>\n",
       "      <td>1500.000000</td>\n",
       "      <td>150.000000</td>\n",
       "    </tr>\n",
       "    <tr>\n",
       "      <th>max</th>\n",
       "      <td>2024.000000</td>\n",
       "      <td>1412.000000</td>\n",
       "      <td>2400.000000</td>\n",
       "      <td>260.000000</td>\n",
       "      <td>674.000000</td>\n",
       "      <td>1800.000000</td>\n",
       "      <td>500.000000</td>\n",
       "    </tr>\n",
       "  </tbody>\n",
       "</table>\n",
       "</div>"
      ],
      "text/plain": [
       "              Year  Sq. Area (sq. km)       Rhinos      Tigers       Lions  \\\n",
       "count   175.000000         175.000000   175.000000  175.000000  175.000000   \n",
       "mean   2007.000000        1072.800000   457.142857   85.371429  126.342857   \n",
       "std      10.128485         373.639817   920.483916   85.257920  253.942471   \n",
       "min    1990.000000         430.000000     0.000000    0.000000    0.000000   \n",
       "25%    1998.000000         874.000000     0.000000    0.000000    0.000000   \n",
       "50%    2007.000000        1318.000000     0.000000   80.000000    0.000000   \n",
       "75%    2016.000000        1330.000000     0.000000  120.000000    0.000000   \n",
       "max    2024.000000        1412.000000  2400.000000  260.000000  674.000000   \n",
       "\n",
       "         Elephants  Crocodiles  \n",
       "count   175.000000  175.000000  \n",
       "mean    637.142857  130.000000  \n",
       "std     790.418816  194.463601  \n",
       "min       0.000000    0.000000  \n",
       "25%       0.000000    0.000000  \n",
       "50%       0.000000    0.000000  \n",
       "75%    1500.000000  150.000000  \n",
       "max    1800.000000  500.000000  "
      ]
     },
     "execution_count": 6,
     "metadata": {},
     "output_type": "execute_result"
    }
   ],
   "source": [
    "df.describe()"
   ]
  },
  {
   "cell_type": "code",
   "execution_count": 63,
   "id": "b6a64a23-8253-4d91-a481-a01662bae623",
   "metadata": {},
   "outputs": [
    {
     "data": {
      "text/html": [
       "<div>\n",
       "<style scoped>\n",
       "    .dataframe tbody tr th:only-of-type {\n",
       "        vertical-align: middle;\n",
       "    }\n",
       "\n",
       "    .dataframe tbody tr th {\n",
       "        vertical-align: top;\n",
       "    }\n",
       "\n",
       "    .dataframe thead th {\n",
       "        text-align: right;\n",
       "    }\n",
       "</style>\n",
       "<table border=\"1\" class=\"dataframe\">\n",
       "  <thead>\n",
       "    <tr style=\"text-align: right;\">\n",
       "      <th></th>\n",
       "      <th>Year</th>\n",
       "      <th>National Park/Wildlife Sanctuary</th>\n",
       "      <th>State</th>\n",
       "      <th>Sq. Area (sq. km)</th>\n",
       "      <th>Rhinos</th>\n",
       "      <th>Tigers</th>\n",
       "      <th>Lions</th>\n",
       "      <th>Elephants</th>\n",
       "      <th>Crocodiles</th>\n",
       "      <th>Region</th>\n",
       "    </tr>\n",
       "  </thead>\n",
       "  <tbody>\n",
       "    <tr>\n",
       "      <th>0</th>\n",
       "      <td>1990</td>\n",
       "      <td>Kaziranga National Park</td>\n",
       "      <td>Assam</td>\n",
       "      <td>430</td>\n",
       "      <td>2000</td>\n",
       "      <td>0</td>\n",
       "      <td>0</td>\n",
       "      <td>1600</td>\n",
       "      <td>0</td>\n",
       "      <td>East</td>\n",
       "    </tr>\n",
       "    <tr>\n",
       "      <th>1</th>\n",
       "      <td>1990</td>\n",
       "      <td>Jim Corbett National Park</td>\n",
       "      <td>Uttarakhand</td>\n",
       "      <td>1318</td>\n",
       "      <td>0</td>\n",
       "      <td>200</td>\n",
       "      <td>0</td>\n",
       "      <td>0</td>\n",
       "      <td>0</td>\n",
       "      <td>North</td>\n",
       "    </tr>\n",
       "    <tr>\n",
       "      <th>2</th>\n",
       "      <td>1990</td>\n",
       "      <td>Gir National Park</td>\n",
       "      <td>Gujarat</td>\n",
       "      <td>1412</td>\n",
       "      <td>0</td>\n",
       "      <td>0</td>\n",
       "      <td>600</td>\n",
       "      <td>0</td>\n",
       "      <td>0</td>\n",
       "      <td>West</td>\n",
       "    </tr>\n",
       "    <tr>\n",
       "      <th>3</th>\n",
       "      <td>1990</td>\n",
       "      <td>Sundarbans National Park</td>\n",
       "      <td>West Bengal</td>\n",
       "      <td>1330</td>\n",
       "      <td>0</td>\n",
       "      <td>80</td>\n",
       "      <td>0</td>\n",
       "      <td>0</td>\n",
       "      <td>500</td>\n",
       "      <td>East</td>\n",
       "    </tr>\n",
       "    <tr>\n",
       "      <th>4</th>\n",
       "      <td>1990</td>\n",
       "      <td>Bandipur National Park</td>\n",
       "      <td>Karnataka</td>\n",
       "      <td>874</td>\n",
       "      <td>0</td>\n",
       "      <td>100</td>\n",
       "      <td>0</td>\n",
       "      <td>1300</td>\n",
       "      <td>150</td>\n",
       "      <td>South</td>\n",
       "    </tr>\n",
       "  </tbody>\n",
       "</table>\n",
       "</div>"
      ],
      "text/plain": [
       "   Year National Park/Wildlife Sanctuary        State  Sq. Area (sq. km)  \\\n",
       "0  1990          Kaziranga National Park        Assam                430   \n",
       "1  1990        Jim Corbett National Park  Uttarakhand               1318   \n",
       "2  1990                Gir National Park      Gujarat               1412   \n",
       "3  1990         Sundarbans National Park  West Bengal               1330   \n",
       "4  1990           Bandipur National Park    Karnataka                874   \n",
       "\n",
       "   Rhinos  Tigers  Lions  Elephants  Crocodiles Region  \n",
       "0    2000       0      0       1600           0   East  \n",
       "1       0     200      0          0           0  North  \n",
       "2       0       0    600          0           0   West  \n",
       "3       0      80      0          0         500   East  \n",
       "4       0     100      0       1300         150  South  "
      ]
     },
     "execution_count": 63,
     "metadata": {},
     "output_type": "execute_result"
    }
   ],
   "source": [
    "# Check sample data of CSV\n",
    "df.head(5)"
   ]
  },
  {
   "cell_type": "code",
   "execution_count": 8,
   "id": "37beae62-d01a-4f9d-a89c-c7618bdeaae3",
   "metadata": {},
   "outputs": [
    {
     "data": {
      "text/plain": [
       "Year                                0\n",
       "National Park/Wildlife Sanctuary    0\n",
       "State                               0\n",
       "Sq. Area (sq. km)                   0\n",
       "Rhinos                              0\n",
       "Tigers                              0\n",
       "Lions                               0\n",
       "Elephants                           0\n",
       "Crocodiles                          0\n",
       "Region                              0\n",
       "dtype: int64"
      ]
     },
     "execution_count": 8,
     "metadata": {},
     "output_type": "execute_result"
    }
   ],
   "source": [
    "# Check if there is missing record\n",
    "df.isnull().sum()"
   ]
  },
  {
   "cell_type": "code",
   "execution_count": 11,
   "id": "f3127b2a-ba72-40e7-a81c-268bc58e2a82",
   "metadata": {},
   "outputs": [
    {
     "data": {
      "text/plain": [
       "Year                                175\n",
       "National Park/Wildlife Sanctuary    175\n",
       "State                               175\n",
       "Sq. Area (sq. km)                   175\n",
       "Rhinos                              175\n",
       "Tigers                              175\n",
       "Lions                               175\n",
       "Elephants                           175\n",
       "Crocodiles                          175\n",
       "Region                              175\n",
       "dtype: int64"
      ]
     },
     "execution_count": 11,
     "metadata": {},
     "output_type": "execute_result"
    }
   ],
   "source": [
    "df.count()"
   ]
  },
  {
   "cell_type": "markdown",
   "id": "8df718c7-6991-4577-be82-52b18647442e",
   "metadata": {},
   "source": [
    "# Since data is cean, lets analyse"
   ]
  },
  {
   "cell_type": "code",
   "execution_count": 10,
   "id": "1d58b0c6-a62e-44c0-967b-dbaed6905a4f",
   "metadata": {},
   "outputs": [
    {
     "data": {
      "text/plain": [
       "National Park/Wildlife Sanctuary\n",
       "Kaziranga National Park      35\n",
       "Jim Corbett National Park    35\n",
       "Gir National Park            35\n",
       "Sundarbans National Park     35\n",
       "Bandipur National Park       35\n",
       "Name: count, dtype: int64"
      ]
     },
     "execution_count": 10,
     "metadata": {},
     "output_type": "execute_result"
    }
   ],
   "source": [
    "df['National Park/Wildlife Sanctuary'].value_counts()"
   ]
  },
  {
   "cell_type": "code",
   "execution_count": 73,
   "id": "dedcef23-88fd-49ce-8e6e-fdbaf4eefbb4",
   "metadata": {},
   "outputs": [
    {
     "data": {
      "text/html": [
       "<div>\n",
       "<style scoped>\n",
       "    .dataframe tbody tr th:only-of-type {\n",
       "        vertical-align: middle;\n",
       "    }\n",
       "\n",
       "    .dataframe tbody tr th {\n",
       "        vertical-align: top;\n",
       "    }\n",
       "\n",
       "    .dataframe thead th {\n",
       "        text-align: right;\n",
       "    }\n",
       "</style>\n",
       "<table border=\"1\" class=\"dataframe\">\n",
       "  <thead>\n",
       "    <tr style=\"text-align: right;\">\n",
       "      <th></th>\n",
       "      <th></th>\n",
       "      <th>Sq. Area (sq. km)</th>\n",
       "      <th>Rhinos</th>\n",
       "      <th>Tigers</th>\n",
       "      <th>Lions</th>\n",
       "      <th>Elephants</th>\n",
       "    </tr>\n",
       "    <tr>\n",
       "      <th>Year</th>\n",
       "      <th>National Park/Wildlife Sanctuary</th>\n",
       "      <th></th>\n",
       "      <th></th>\n",
       "      <th></th>\n",
       "      <th></th>\n",
       "      <th></th>\n",
       "    </tr>\n",
       "  </thead>\n",
       "  <tbody>\n",
       "    <tr>\n",
       "      <th rowspan=\"5\" valign=\"top\">1990</th>\n",
       "      <th>Bandipur National Park</th>\n",
       "      <td>874</td>\n",
       "      <td>0</td>\n",
       "      <td>100</td>\n",
       "      <td>0</td>\n",
       "      <td>1300</td>\n",
       "    </tr>\n",
       "    <tr>\n",
       "      <th>Gir National Park</th>\n",
       "      <td>1412</td>\n",
       "      <td>0</td>\n",
       "      <td>0</td>\n",
       "      <td>600</td>\n",
       "      <td>0</td>\n",
       "    </tr>\n",
       "    <tr>\n",
       "      <th>Jim Corbett National Park</th>\n",
       "      <td>1318</td>\n",
       "      <td>0</td>\n",
       "      <td>200</td>\n",
       "      <td>0</td>\n",
       "      <td>0</td>\n",
       "    </tr>\n",
       "    <tr>\n",
       "      <th>Kaziranga National Park</th>\n",
       "      <td>430</td>\n",
       "      <td>2000</td>\n",
       "      <td>0</td>\n",
       "      <td>0</td>\n",
       "      <td>1600</td>\n",
       "    </tr>\n",
       "    <tr>\n",
       "      <th>Sundarbans National Park</th>\n",
       "      <td>1330</td>\n",
       "      <td>0</td>\n",
       "      <td>80</td>\n",
       "      <td>0</td>\n",
       "      <td>0</td>\n",
       "    </tr>\n",
       "    <tr>\n",
       "      <th>...</th>\n",
       "      <th>...</th>\n",
       "      <td>...</td>\n",
       "      <td>...</td>\n",
       "      <td>...</td>\n",
       "      <td>...</td>\n",
       "      <td>...</td>\n",
       "    </tr>\n",
       "    <tr>\n",
       "      <th rowspan=\"5\" valign=\"top\">2024</th>\n",
       "      <th>Bandipur National Park</th>\n",
       "      <td>874</td>\n",
       "      <td>0</td>\n",
       "      <td>120</td>\n",
       "      <td>0</td>\n",
       "      <td>1500</td>\n",
       "    </tr>\n",
       "    <tr>\n",
       "      <th>Gir National Park</th>\n",
       "      <td>1412</td>\n",
       "      <td>0</td>\n",
       "      <td>0</td>\n",
       "      <td>674</td>\n",
       "      <td>0</td>\n",
       "    </tr>\n",
       "    <tr>\n",
       "      <th>Jim Corbett National Park</th>\n",
       "      <td>1318</td>\n",
       "      <td>0</td>\n",
       "      <td>260</td>\n",
       "      <td>0</td>\n",
       "      <td>0</td>\n",
       "    </tr>\n",
       "    <tr>\n",
       "      <th>Kaziranga National Park</th>\n",
       "      <td>430</td>\n",
       "      <td>2400</td>\n",
       "      <td>0</td>\n",
       "      <td>0</td>\n",
       "      <td>1800</td>\n",
       "    </tr>\n",
       "    <tr>\n",
       "      <th>Sundarbans National Park</th>\n",
       "      <td>1330</td>\n",
       "      <td>0</td>\n",
       "      <td>96</td>\n",
       "      <td>0</td>\n",
       "      <td>0</td>\n",
       "    </tr>\n",
       "  </tbody>\n",
       "</table>\n",
       "<p>175 rows × 5 columns</p>\n",
       "</div>"
      ],
      "text/plain": [
       "                                       Sq. Area (sq. km)  Rhinos  Tigers  \\\n",
       "Year National Park/Wildlife Sanctuary                                      \n",
       "1990 Bandipur National Park                          874       0     100   \n",
       "     Gir National Park                              1412       0       0   \n",
       "     Jim Corbett National Park                      1318       0     200   \n",
       "     Kaziranga National Park                         430    2000       0   \n",
       "     Sundarbans National Park                       1330       0      80   \n",
       "...                                                  ...     ...     ...   \n",
       "2024 Bandipur National Park                          874       0     120   \n",
       "     Gir National Park                              1412       0       0   \n",
       "     Jim Corbett National Park                      1318       0     260   \n",
       "     Kaziranga National Park                         430    2400       0   \n",
       "     Sundarbans National Park                       1330       0      96   \n",
       "\n",
       "                                       Lions  Elephants  \n",
       "Year National Park/Wildlife Sanctuary                    \n",
       "1990 Bandipur National Park                0       1300  \n",
       "     Gir National Park                   600          0  \n",
       "     Jim Corbett National Park             0          0  \n",
       "     Kaziranga National Park               0       1600  \n",
       "     Sundarbans National Park              0          0  \n",
       "...                                      ...        ...  \n",
       "2024 Bandipur National Park                0       1500  \n",
       "     Gir National Park                   674          0  \n",
       "     Jim Corbett National Park             0          0  \n",
       "     Kaziranga National Park               0       1800  \n",
       "     Sundarbans National Park              0          0  \n",
       "\n",
       "[175 rows x 5 columns]"
      ]
     },
     "execution_count": 73,
     "metadata": {},
     "output_type": "execute_result"
    }
   ],
   "source": [
    "df.groupby(['Year', 'National Park/Wildlife Sanctuary']).agg({'Sq. Area (sq. km)':'first', 'Rhinos':'sum', 'Tigers':'sum', 'Lions':'sum', 'Elephants':'sum'})\n",
    "# Here multiple groupby conditions has been added. 'first' means single value since Sq. Area is same. For others, used sum."
   ]
  },
  {
   "cell_type": "code",
   "execution_count": 20,
   "id": "046723d8-ea40-41d9-af5c-0c841ffa0750",
   "metadata": {},
   "outputs": [
    {
     "data": {
      "text/html": [
       "<div>\n",
       "<style scoped>\n",
       "    .dataframe tbody tr th:only-of-type {\n",
       "        vertical-align: middle;\n",
       "    }\n",
       "\n",
       "    .dataframe tbody tr th {\n",
       "        vertical-align: top;\n",
       "    }\n",
       "\n",
       "    .dataframe thead th {\n",
       "        text-align: right;\n",
       "    }\n",
       "</style>\n",
       "<table border=\"1\" class=\"dataframe\">\n",
       "  <thead>\n",
       "    <tr style=\"text-align: right;\">\n",
       "      <th></th>\n",
       "      <th></th>\n",
       "      <th>Sq. Area (sq. km)</th>\n",
       "      <th>Rhinos</th>\n",
       "      <th>Tigers</th>\n",
       "      <th>Lions</th>\n",
       "      <th>Elephants</th>\n",
       "    </tr>\n",
       "    <tr>\n",
       "      <th>Year</th>\n",
       "      <th>Region</th>\n",
       "      <th></th>\n",
       "      <th></th>\n",
       "      <th></th>\n",
       "      <th></th>\n",
       "      <th></th>\n",
       "    </tr>\n",
       "  </thead>\n",
       "  <tbody>\n",
       "    <tr>\n",
       "      <th rowspan=\"4\" valign=\"top\">1990</th>\n",
       "      <th>East</th>\n",
       "      <td>1760</td>\n",
       "      <td>2000</td>\n",
       "      <td>80</td>\n",
       "      <td>0</td>\n",
       "      <td>1600</td>\n",
       "    </tr>\n",
       "    <tr>\n",
       "      <th>North</th>\n",
       "      <td>1318</td>\n",
       "      <td>0</td>\n",
       "      <td>200</td>\n",
       "      <td>0</td>\n",
       "      <td>0</td>\n",
       "    </tr>\n",
       "    <tr>\n",
       "      <th>South</th>\n",
       "      <td>874</td>\n",
       "      <td>0</td>\n",
       "      <td>100</td>\n",
       "      <td>0</td>\n",
       "      <td>1300</td>\n",
       "    </tr>\n",
       "    <tr>\n",
       "      <th>West</th>\n",
       "      <td>1412</td>\n",
       "      <td>0</td>\n",
       "      <td>0</td>\n",
       "      <td>600</td>\n",
       "      <td>0</td>\n",
       "    </tr>\n",
       "    <tr>\n",
       "      <th>1991</th>\n",
       "      <th>East</th>\n",
       "      <td>1760</td>\n",
       "      <td>2000</td>\n",
       "      <td>80</td>\n",
       "      <td>0</td>\n",
       "      <td>1600</td>\n",
       "    </tr>\n",
       "    <tr>\n",
       "      <th>...</th>\n",
       "      <th>...</th>\n",
       "      <td>...</td>\n",
       "      <td>...</td>\n",
       "      <td>...</td>\n",
       "      <td>...</td>\n",
       "      <td>...</td>\n",
       "    </tr>\n",
       "    <tr>\n",
       "      <th>2023</th>\n",
       "      <th>West</th>\n",
       "      <td>1412</td>\n",
       "      <td>0</td>\n",
       "      <td>0</td>\n",
       "      <td>674</td>\n",
       "      <td>0</td>\n",
       "    </tr>\n",
       "    <tr>\n",
       "      <th rowspan=\"4\" valign=\"top\">2024</th>\n",
       "      <th>East</th>\n",
       "      <td>1760</td>\n",
       "      <td>2400</td>\n",
       "      <td>96</td>\n",
       "      <td>0</td>\n",
       "      <td>1800</td>\n",
       "    </tr>\n",
       "    <tr>\n",
       "      <th>North</th>\n",
       "      <td>1318</td>\n",
       "      <td>0</td>\n",
       "      <td>260</td>\n",
       "      <td>0</td>\n",
       "      <td>0</td>\n",
       "    </tr>\n",
       "    <tr>\n",
       "      <th>South</th>\n",
       "      <td>874</td>\n",
       "      <td>0</td>\n",
       "      <td>120</td>\n",
       "      <td>0</td>\n",
       "      <td>1500</td>\n",
       "    </tr>\n",
       "    <tr>\n",
       "      <th>West</th>\n",
       "      <td>1412</td>\n",
       "      <td>0</td>\n",
       "      <td>0</td>\n",
       "      <td>674</td>\n",
       "      <td>0</td>\n",
       "    </tr>\n",
       "  </tbody>\n",
       "</table>\n",
       "<p>140 rows × 5 columns</p>\n",
       "</div>"
      ],
      "text/plain": [
       "             Sq. Area (sq. km)  Rhinos  Tigers  Lions  Elephants\n",
       "Year Region                                                     \n",
       "1990 East                 1760    2000      80      0       1600\n",
       "     North                1318       0     200      0          0\n",
       "     South                 874       0     100      0       1300\n",
       "     West                 1412       0       0    600          0\n",
       "1991 East                 1760    2000      80      0       1600\n",
       "...                        ...     ...     ...    ...        ...\n",
       "2023 West                 1412       0       0    674          0\n",
       "2024 East                 1760    2400      96      0       1800\n",
       "     North                1318       0     260      0          0\n",
       "     South                 874       0     120      0       1500\n",
       "     West                 1412       0       0    674          0\n",
       "\n",
       "[140 rows x 5 columns]"
      ]
     },
     "execution_count": 20,
     "metadata": {},
     "output_type": "execute_result"
    }
   ],
   "source": [
    "df.groupby(['Year', 'Region']).agg({'Sq. Area (sq. km)':'sum', 'Rhinos':'sum', 'Tigers':'sum', 'Lions':'sum', 'Elephants':'sum'})"
   ]
  },
  {
   "cell_type": "markdown",
   "id": "e35e368f-cd84-4d74-8910-e3b3a36abb65",
   "metadata": {},
   "source": [
    "# Generating graphs for analysis"
   ]
  },
  {
   "cell_type": "code",
   "execution_count": 66,
   "id": "bc4b37ff-273b-4b06-b24c-b8e23812e9f7",
   "metadata": {},
   "outputs": [],
   "source": [
    "# Generate graph region wise\n",
    "reagon_stat = df.groupby(['Year', 'Region']).agg({'Sq. Area (sq. km)':'sum', 'Rhinos':'sum', 'Tigers':'sum', 'Lions':'sum', 'Elephants':'sum'})\n",
    "# Reset index while dropping the existing index to avoid column conflicts\n",
    "reagon_stat = reagon_stat.reset_index()\n",
    "# Determine the number of unique years to set the number of bins appropriately\n",
    "num_years = reagon_stat['Year'].nunique()"
   ]
  },
  {
   "cell_type": "code",
   "execution_count": 67,
   "id": "892eed51-bc6f-4a08-87db-a38d6832f411",
   "metadata": {},
   "outputs": [
    {
     "data": {
      "image/png": "[encoded data removed]",
      "text/plain": [
       "<Figure size 640x480 with 1 Axes>"
      ]
     },
     "metadata": {},
     "output_type": "display_data"
    }
   ],
   "source": [
    "# Generate a histogram for tigers count analysis with specific bins\n",
    "sns.histplot(data=reagon_stat, x='Year', hue='Region', weights='Tigers', element='poly', bins=num_years)\n",
    "# Customize the plot\n",
    "plt.title('Tiger Population Across Regions and Years')\n",
    "plt.ylabel('Number of Tigers')\n",
    "plt.xlabel('Year')\n",
    "# Show the plot\n",
    "plt.xticks(rotation=90)  # Rotate the x labels for better readability\n",
    "plt.show()"
   ]
  },
  {
   "cell_type": "code",
   "execution_count": 69,
   "id": "64feebbd-0fbf-4412-864b-ad9bf3efccb7",
   "metadata": {},
   "outputs": [
    {
     "data": {
      "image/png": "[encoded data removed]",
      "text/plain": [
       "<Figure size 640x480 with 1 Axes>"
      ]
     },
     "metadata": {},
     "output_type": "display_data"
    }
   ],
   "source": [
    "# Generate a histogram for Rhino count analysis with specific bins\n",
    "sns.histplot(data=reagon_stat, x='Year', hue='Region', weights='Rhinos', element='poly', bins=num_years)\n",
    "# Customize the plot\n",
    "plt.title('Rhino Population Across Regions and Years')\n",
    "plt.ylabel('Number of Rhinos')\n",
    "plt.xlabel('Year')\n",
    "# Show the plot\n",
    "plt.xticks(rotation=90)  # Rotate the x labels for better readability\n",
    "plt.show()"
   ]
  },
  {
   "cell_type": "code",
   "execution_count": 71,
   "id": "35e7941a-b9df-4092-9aef-176eb8d3ea79",
   "metadata": {},
   "outputs": [
    {
     "data": {
      "image/png": "[encoded data removed]",
      "text/plain": [
       "<Figure size 640x480 with 1 Axes>"
      ]
     },
     "metadata": {},
     "output_type": "display_data"
    }
   ],
   "source": [
    "# Generate a histogram for Lions count analysis with specific bins\n",
    "sns.histplot(data=reagon_stat, x='Year', hue='Region', weights='Lions', element='poly', bins=num_years)\n",
    "# Customize the plot\n",
    "plt.title('Lion Population Across Regions and Years')\n",
    "plt.ylabel('Number of Lions')\n",
    "plt.xlabel('Year')\n",
    "# Show the plot\n",
    "plt.xticks(rotation=90)  # Rotate the x labels for better readability\n",
    "plt.show()"
   ]
  },
  {
   "cell_type": "code",
   "execution_count": 74,
   "id": "7ef9e726-9088-48f3-b0b4-60e6123a38d4",
   "metadata": {},
   "outputs": [
    {
     "data": {
      "image/png": "[encoded data removed]",
      "text/plain": [
       "<Figure size 640x480 with 1 Axes>"
      ]
     },
     "metadata": {},
     "output_type": "display_data"
    },
    {
     "data": {
      "image/png": "[encoded data removed]",
      "text/plain": [
       "<Figure size 2000x800 with 1 Axes>"
      ]
     },
     "metadata": {},
     "output_type": "display_data"
    }
   ],
   "source": [
    "# Generate a histogram for Elephants count analysis with specific bins\n",
    "sns.histplot(data=reagon_stat, x='Year', hue='Region', weights='Elephants', element='poly', bins=num_years)\n",
    "# Customize the plot\n",
    "plt.title('Elephant Population Across Regions and Years')\n",
    "plt.ylabel('Number of Elephants')\n",
    "plt.xlabel('Year')\n",
    "# Show the plot\n",
    "plt.xticks(rotation=90)  # Rotate the x labels for better readability\n",
    "plt.show()"
   ]
  },
  {
   "cell_type": "code",
   "execution_count": null,
   "id": "4f917409-a05d-40d9-a230-7f652c200957",
   "metadata": {},
   "outputs": [],
   "source": []
  }
 ],
 "metadata": {
  "kernelspec": {
   "display_name": "Python 3 (ipykernel)",
   "language": "python",
   "name": "python3"
  },
  "language_info": {
   "codemirror_mode": {
    "name": "ipython",
    "version": 3
   },
   "file_extension": ".py",
   "mimetype": "text/x-python",
   "name": "python",
   "nbconvert_exporter": "python",
   "pygments_lexer": "ipython3",
   "version": "3.13.0"
  }
 },
 "nbformat": 4,
 "nbformat_minor": 5
}
